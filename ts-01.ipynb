{
 "cells": [
  {
   "cell_type": "markdown",
   "id": "349adde4-7213-4bea-81dc-5ef694c8c1d0",
   "metadata": {},
   "source": [
    "## TypeScript examples in jupyterlab notebook\n",
    "\n",
    "### Comments in TS\n",
    "\n",
    "- Single and double\n",
    "\n",
    "```ts\n",
    "// single line comment\n",
    "\n",
    "/* This is double lines or more \n",
    "comments\n",
    "*/\n",
    "```\n",
    "\n",
    "### Declaring variables in Ts\n",
    "\n",
    "- `var, let, and const` are used\n",
    "- `let` is used for block scope, can be updated but nor re declared.\n",
    "- `const` once declared can not be reassigned."
   ]
  },
  {
   "cell_type": "code",
   "execution_count": 8,
   "id": "cb3ffa15-8ec3-44f0-9997-9328719cfd1e",
   "metadata": {},
   "outputs": [
    {
     "name": "stderr",
     "output_type": "stream",
     "text": [
      "1:5 - Cannot redeclare block-scoped variable 'firstName'.\n",
      "2:5 - Cannot redeclare block-scoped variable 'firstName'.\n"
     ]
    }
   ],
   "source": [
    "let firstName = \"Abdul\"\n",
    "let firstName = \"Error\""
   ]
  },
  {
   "cell_type": "code",
   "execution_count": 9,
   "id": "c9101125-d709-4b5c-8e67-c285bdc87b47",
   "metadata": {},
   "outputs": [
    {
     "name": "stdout",
     "output_type": "stream",
     "text": [
      "variable can be reassigned\n"
     ]
    }
   ],
   "source": [
    "firstName = \"variable can be reassigned\"\n",
    "console.log(firstName)"
   ]
  },
  {
   "cell_type": "code",
   "execution_count": 10,
   "id": "035f2a9b-31be-4104-bc92-6aea04f82370",
   "metadata": {},
   "outputs": [
    {
     "name": "stderr",
     "output_type": "stream",
     "text": [
      "2:1 - Cannot assign to 'sirName' because it is a constant.\n"
     ]
    }
   ],
   "source": [
    "const sirName = \"Sayyed\"\n",
    "sirName = \"error\""
   ]
  },
  {
   "cell_type": "markdown",
   "id": "b10a3ebd-5337-40d2-87ff-13d57c41bbd7",
   "metadata": {},
   "source": [
    "---"
   ]
  },
  {
   "cell_type": "markdown",
   "id": "19abdba6-36db-4390-b27a-94fd38bc6528",
   "metadata": {},
   "source": [
    "### Variable Scope in Ts\n",
    "\n",
    "- `Global` available anywhere.\n",
    "- `local` available within the block.\n",
    "- `class` available within the class and with object outside the class\n"
   ]
  },
  {
   "cell_type": "code",
   "execution_count": 15,
   "id": "49432d20-4422-4689-a17d-f7975818fb8b",
   "metadata": {},
   "outputs": [
    {
     "name": "stdout",
     "output_type": "stream",
     "text": [
      "Abdul Ghafoor Sayyed\n",
      "Value changed\n"
     ]
    }
   ],
   "source": [
    "var globalVar = \"Abdul Ghafoor Sayyed\" // global scope\n",
    "if (globalVar == \"M\") {\n",
    "    console.log (\"Never printed\")\n",
    "} else if ( globalVar == \"Abdul Ghafoor Sayyed\" ){\n",
    "    console.log(globalVar)\n",
    "    globalVar = \"Value changed\" // being global available \n",
    "    console.log(globalVar)\n",
    "    let myName = \"Rajan\"; // not available outside the block\n",
    "}\n",
    "// console.log (myName) // error"
   ]
  },
  {
   "cell_type": "code",
   "execution_count": 28,
   "id": "eae43db8-a237-457c-9b9a-3a00c13ba040",
   "metadata": {},
   "outputs": [
    {
     "name": "stdout",
     "output_type": "stream",
     "text": [
      "\u001b[33m0\u001b[39m\n",
      "\u001b[33m10\u001b[39m\n",
      "( \u001b[33m10\u001b[39m , \u001b[33m0\u001b[39m )\n",
      "( \u001b[33m0\u001b[39m , \u001b[33m10\u001b[39m )\n",
      "100, 200\n"
     ]
    }
   ],
   "source": [
    "class Point {\n",
    "    // properties/fields are not available outside the class if declared private\n",
    "    \n",
    "    _x:number; // _ is not necessary, if anotatin is not present, type is of any\n",
    "    _y:number; // public and writable by default \n",
    "    \n",
    "    static ID = 9238343; // Access by class only\n",
    "    \n",
    "    // CTOR\n",
    "    constructor (x:number,y:number){\n",
    "        this._x = x;\n",
    "        this._y = y;\n",
    "    }\n",
    "    \n",
    "    // get\n",
    "    get x():number {return this._x}\n",
    "    get y():number {return this._y}\n",
    "    \n",
    "    //set\n",
    "    set x(x:number) { this._x = x}\n",
    "    set y(y:number) { this._y = y}\n",
    "    \n",
    "     //method\n",
    "    currentPosition () {console.log(\"(\", this._x , \",\", this._y , \")\")}\n",
    "    // another way of printing\n",
    "    getPosition (){\n",
    "        console.log(`${this._x}, ${this._y}`)\n",
    "    };\n",
    "    \n",
    "    movePoint(a:number,b:number){this._x = this._x + a; this._y = this.y + b}\n",
    "}\n",
    "\n",
    "// Creating Pont object\n",
    "let pointOne = new Point(0,0)\n",
    "console.log(pointOne.x); // x is getter\n",
    "pointOne.x =10; // x is setter\n",
    "console.log(pointOne.x); \n",
    "pointOne.currentPosition(); // method invocaton\n",
    "pointOne.movePoint(-10,10);\n",
    "pointOne.currentPosition();\n",
    "pointOne._x = 100; // direct access,without using getter\n",
    "pointOne._y = 200; // what is the point ? make field private, use set and get\n",
    "pointOne.getPosition();"
   ]
  },
  {
   "cell_type": "markdown",
   "id": "0fe2559c-c25b-4f09-bf7a-69949f9b1bd1",
   "metadata": {},
   "source": [
    "### Primitive data types\n",
    "\n",
    "- `string, number and boolean` are known as primitives\n",
    "- `Arrays` uses  `[  ]` square brackets."
   ]
  },
  {
   "cell_type": "code",
   "execution_count": 48,
   "id": "4acf23e8-2f19-423a-9bb4-6145b1064b72",
   "metadata": {},
   "outputs": [
    {
     "name": "stdout",
     "output_type": "stream",
     "text": [
      "[ \u001b[33m1\u001b[39m, \u001b[33m2\u001b[39m, \u001b[33m3\u001b[39m ]\n",
      "object\n",
      "[ \u001b[33m100\u001b[39m, \u001b[33m200\u001b[39m ]\n",
      "object\n",
      "\u001b[33m100\u001b[39m\n",
      "\u001b[33m3\u001b[39m\n"
     ]
    }
   ],
   "source": [
    "//declaring an arry in ts\n",
    "var color: string[];\n",
    "\n",
    "// declaring and assigning\n",
    "let things = [1, 2, 3]; // inferred to ypte things: number[]\n",
    "console.log(things)\n",
    "console.log(typeof(things))\n",
    "\n",
    "// declaring with explicit types and assigining\n",
    "let fewThings: number[] = [100,200]; // with type annotation\n",
    "console.log(fewThings);\n",
    "console.log(typeof(fewThings));\n",
    "console.log(fewThings[0]);\n",
    "\n",
    "// using `push` on array\n",
    "fewThings.push(10); // insert number and returns its index\n",
    "//fewThings.push(\"hi\"); // error type string is not assignable to number"
   ]
  },
  {
   "cell_type": "markdown",
   "id": "69c530b8-6d10-4e7e-bc4a-85f3c5eb6885",
   "metadata": {},
   "source": [
    "### Destructring array\n",
    "\n",
    "- A new way to set and get the values from an arry"
   ]
  },
  {
   "cell_type": "code",
   "execution_count": 63,
   "id": "32ffbcde-7d4e-4203-92a1-4c18414c4988",
   "metadata": {},
   "outputs": [
    {
     "name": "stdout",
     "output_type": "stream",
     "text": [
      "Toyota   Ford\n",
      "new Toyota\n",
      "Ford\n"
     ]
    }
   ],
   "source": [
    "// old ways\n",
    "const vehicles = ['Toyota', 'Ford'];\n",
    "console.log(vehicles[0], \" \" , vehicles[1]);\n",
    "\n",
    "// \n",
    "vehicles[0]= 'new Toyota';\n",
    "console.log(vehicles[0]);\n",
    "const truck = vehicles[1];\n",
    "console.log(truck);"
   ]
  },
  {
   "cell_type": "code",
   "execution_count": 72,
   "id": "2aaa95cb-6bc9-4577-9950-78820da8a849",
   "metadata": {},
   "outputs": [
    {
     "name": "stdout",
     "output_type": "stream",
     "text": [
      "[ \u001b[32m'ivry'\u001b[39m, \u001b[32m'rose'\u001b[39m ]\n",
      "[ \u001b[32m'ivry'\u001b[39m, \u001b[32m'rose'\u001b[39m ]\n",
      "[ \u001b[33m50\u001b[39m, \u001b[33m60\u001b[39m ]\n"
     ]
    }
   ],
   "source": [
    "// With new destructuring\n",
    "const plants = ['ivry','rose'];\n",
    "const [a,b] = plants; // assigining plants value to an un named array\n",
    "console.log(plants);\n",
    "console.log([a,b]);\n",
    "\n",
    "//  more explicitly\n",
    "const northWall: number[] = [50,60];\n",
    "const [width,height] = northWall;\n",
    "console.log([width,height]);"
   ]
  },
  {
   "cell_type": "code",
   "execution_count": null,
   "id": "7ad1e54a-d7c4-4cc9-81e5-e8b8e13818f0",
   "metadata": {},
   "outputs": [],
   "source": [
    "// Swapping an array values\n"
   ]
  },
  {
   "cell_type": "code",
   "execution_count": 81,
   "id": "3df3e7c5-d07a-4aa0-ad76-1b3d064661e4",
   "metadata": {},
   "outputs": [
    {
     "name": "stdout",
     "output_type": "stream",
     "text": [
      "{ x: \u001b[33m10\u001b[39m, y: \u001b[33m20\u001b[39m, a: \u001b[33m200\u001b[39m }\n",
      "\u001b[33m10\u001b[39m \u001b[33m20\u001b[39m \u001b[33m200\u001b[39m\n",
      "\u001b[33m20\u001b[39m \u001b[33m30\u001b[39m \u001b[33m40\u001b[39m { d: \u001b[33m50\u001b[39m, e: \u001b[33m60\u001b[39m }\n"
     ]
    }
   ],
   "source": [
    "// Object destructuring\n",
    "const southWall = {x:10, y:20, t:200};\n",
    "var {x,y,t} = southWall;\n",
    "console.log({x,y,t}); // gives property:value\n",
    "console.log(x,y,t);  // gives only value\n",
    "\n",
    "// using ... spread operators\n",
    "\n",
    "const {z, d, c, ...rest} = {z:20, d:30, c:40, f:50, e:60};\n",
    "console.log(z, d, c, rest);"
   ]
  },
  {
   "cell_type": "markdown",
   "id": "fac7c5b6-a060-4b98-9de5-f5f8439ddd1d",
   "metadata": {},
   "source": [
    "- `readonly` keywords makes a value unchangable."
   ]
  },
  {
   "cell_type": "code",
   "execution_count": 51,
   "id": "a26d5a83-f46a-4c10-85de-ad8ec5f6c5af",
   "metadata": {},
   "outputs": [
    {
     "name": "stderr",
     "output_type": "stream",
     "text": [
      "2:8 - Property 'push' does not exist on type 'readonly string[]'.\n"
     ]
    }
   ],
   "source": [
    "const myName: readonly string[] = [\"Abdul Ghafoor Sayyed\"];\n",
    "myName.push(\"Rob\");"
   ]
  },
  {
   "cell_type": "markdown",
   "id": "5e340cd4-fd06-433f-8a87-085d31250342",
   "metadata": {},
   "source": [
    "---"
   ]
  },
  {
   "cell_type": "markdown",
   "id": "026d064a-0867-4da1-98d7-286968a1b3d6",
   "metadata": {},
   "source": [
    "### Special type `any`\n",
    "\n",
    "- It is used when you do not want typechecking errors."
   ]
  },
  {
   "cell_type": "code",
   "execution_count": 39,
   "id": "1c4c9ab8-aec6-4f8a-b55b-bd38dd89e8b6",
   "metadata": {},
   "outputs": [
    {
     "name": "stdout",
     "output_type": "stream",
     "text": [
      "{ x: \u001b[33m10\u001b[39m }\n"
     ]
    }
   ],
   "source": [
    "let a : any = { x:10 }\n",
    "console.log(a);\n",
    "//a.hello() // no error as typechecking is disabled by any ?"
   ]
  },
  {
   "cell_type": "markdown",
   "id": "19ea5935-fa3d-43d8-9164-35da4c4eb3b6",
   "metadata": {},
   "source": [
    "### Functions in Ts\n",
    "\n",
    "- Decleration: `function <identfier>(parm1:type, parm2:type):returntype{ }`\n",
    "- Parameters type is checked.\n",
    "- Return type `function getNumber(): number { return 10; }"
   ]
  },
  {
   "cell_type": "code",
   "execution_count": null,
   "id": "8abe711e-8d68-491e-b178-67e688344abd",
   "metadata": {},
   "outputs": [],
   "source": []
  },
  {
   "cell_type": "markdown",
   "id": "34d82423-c638-49c3-b4cd-564a93a74c4d",
   "metadata": {},
   "source": [
    "### Tuples in Ts\n",
    "\n",
    "- Tuple is any array but its each index types are predefined.\n",
    "- When setting value order matters"
   ]
  },
  {
   "cell_type": "code",
   "execution_count": 82,
   "id": "d5e062fc-2773-401d-892e-0442ae7d3da4",
   "metadata": {},
   "outputs": [
    {
     "name": "stdout",
     "output_type": "stream",
     "text": [
      "[ \u001b[33m794\u001b[39m, \u001b[32m'Cranbrook Rd'\u001b[39m, \u001b[32m'IG6 1HZ'\u001b[39m ]\n",
      "[ \u001b[33m3.14\u001b[39m, \u001b[33m9.87\u001b[39m ]\n",
      "\u001b[33m3.14\u001b[39m \u001b[33m9.87\u001b[39m\n"
     ]
    }
   ],
   "source": [
    "// defining a tuple\n",
    "let address : [number,string,any];\n",
    "\n",
    "// initilise it\n",
    "address = [794, 'Cranbrook Rd', \"IG6 1HZ\"];\n",
    "console.log(address)\n",
    "\n",
    "// can be initiased in one line, they are known as named tuple\n",
    "const universalConstant : [pi:number, g:number] = [3.14,9.87];\n",
    "console.log(universalConstant);\n",
    "\n",
    "// can be destructured\n",
    "const [pi,g] = universalConstant;\n",
    "console.log(pi,g);"
   ]
  },
  {
   "cell_type": "markdown",
   "id": "d0a9914f-91ab-4fd1-a1a8-7e40a22dfb95",
   "metadata": {},
   "source": [
    "### Interfaces\n",
    "\n",
    "- A way to gather different types annotations"
   ]
  },
  {
   "cell_type": "code",
   "execution_count": 1,
   "id": "4fd4988f-c74c-4968-b72c-12fa484e344e",
   "metadata": {},
   "outputs": [],
   "source": [
    "interface Fullname {\n",
    "    firstName: string;\n",
    "    middleName: string;\n",
    "    sirName: string;\n",
    "}"
   ]
  },
  {
   "cell_type": "markdown",
   "id": "da88f770-a68a-4aab-b7ee-8e412263b67e",
   "metadata": {},
   "source": [
    "- Anyone can implement this interface provided it uses all its fields"
   ]
  },
  {
   "cell_type": "code",
   "execution_count": 2,
   "id": "eea12966-b59e-4675-9053-c42c17c0b638",
   "metadata": {},
   "outputs": [
    {
     "name": "stdout",
     "output_type": "stream",
     "text": [
      "{ firstName: \u001b[32m'Abdul'\u001b[39m, middleName: \u001b[32m'Ghafoor'\u001b[39m, sirName: \u001b[32m'Sayyed'\u001b[39m }\n"
     ]
    }
   ],
   "source": [
    "// implementing interface\n",
    "var myName : Fullname = {\n",
    "    firstName : \"Abdul\",\n",
    "    middleName : \"Ghafoor\",\n",
    "    sirName : \"Sayyed\"\n",
    "}\n",
    "console.log(myName);"
   ]
  }
 ],
 "metadata": {
  "kernelspec": {
   "display_name": "TypeScript",
   "language": "typescript",
   "name": "tslab"
  },
  "language_info": {
   "codemirror_mode": {
    "mode": "typescript",
    "name": "javascript",
    "typescript": true
   },
   "file_extension": ".ts",
   "mimetype": "text/typescript",
   "name": "typescript",
   "version": "3.7.2"
  }
 },
 "nbformat": 4,
 "nbformat_minor": 5
}
